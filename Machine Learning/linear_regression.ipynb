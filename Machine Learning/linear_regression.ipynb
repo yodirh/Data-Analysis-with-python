{
 "cells": [
  {
   "cell_type": "markdown",
   "metadata": {},
   "source": [
    "<!--NAVIGATION-->\n",
    "\n",
    "\n",
    "<a href=\"https://colab.research.google.com/github/saskeli/x/blob/master/linear_regression.ipynb\"><img align=\"left\" src=\"https://colab.research.google.com/assets/colab-badge.svg\" alt=\"Open in Colab\" title=\"Open and Execute in Google Colaboratory\"></a>\n",
    "\n",
    "|                                                -                                                |                                                -                                                |                                                -                                                |\n",
    "|-------------------------------------------------------------------------------------------------|-------------------------------------------------------------------------------------------------|-------------------------------------------------------------------------------------------------|\n",
    "|            [Exercise 10 (linear regression)](<#Exercise-10-(linear-regression&#41;>)            |                 [Exercise 11 (mystery data)](<#Exercise-11-(mystery-data&#41;>)                 | [Exercise 12 (coefficient of determination)](<#Exercise-12-(coefficient-of-determination&#41;>) |\n",
    "|    [Exercise 13 (cycling weather continues)](<#Exercise-13-(cycling-weather-continues&#41;>)    |                                                                                                 |                                                                                                 |\n",
    "\n"
   ]
  },
  {
   "cell_type": "markdown",
   "metadata": {},
   "source": [
    "# Machine learning: linear regression\n",
    "\n",
    "## Linear regression\n",
    "Regression analysis tries to explain relationships between variables. One of these variables, called dependend variable, is what we want to \"explain\" using one or more *explanatory variables*. In linear regression we assume that the dependent variable can be, approximately, expressed as a linear combination of the explanatory variables. As a simple example, we might have dependent variable height and an explanatory variable age. The age of a person can quite well explain the height of a person, and this relationship is approximately linear for kids (ages between 1 and 16). Another way of thinking about regression is fitting a curve to the observed data points. If we have only one explanatory variable, then this is easy to visualize, as we shall see below.\n",
    "\n",
    "We can apply the linear regression easily with the [scikit-learn](https://scikit-learn.org/stable/) package. Let's go through some examples."
   ]
  },
  {
   "cell_type": "markdown",
   "metadata": {},
   "source": [
    "First we make the usual standard imports."
   ]
  },
  {
   "cell_type": "markdown",
   "metadata": {},
   "source": [
    "#### <div class=\"alert alert-info\">Exercise 10 (linear regression)</div>\n",
    "\n",
    "This exercise can give two points at maximum!\n",
    "\n",
    "Part 1.\n",
    "\n",
    "Write a function `fit_line` that gets one dimensional arrays `x` and `y` as parameters. The function should return the tuple `(slope, intercept)` of the fitted line. Write a main program that tests the `fit_line` function with some example arrays. The main function should produce output in the following form:\n",
    "\n",
    "```\n",
    "Slope: 1.0\n",
    "Intercept: 1.16666666667\n",
    "```\n",
    "\n",
    "Part 2.\n",
    "\n",
    "Modify your `main` function to plot the fitted line using matplotlib, in addition to the textual output. Plot also the original data points.\n",
    "\n",
    "<hr/>"
   ]
  },
  {
   "cell_type": "code",
   "execution_count": 1,
   "metadata": {},
   "outputs": [
    {
     "name": "stdout",
     "output_type": "stream",
     "text": [
      "Slope:  2.0057351827514363\n",
      "Intercept:  0.8818990335144985\n"
     ]
    },
    {
     "data": {
      "image/png": "[encoded data removed]",
      "text/plain": [
       "<Figure size 432x288 with 1 Axes>"
      ]
     },
     "metadata": {
      "needs_background": "light"
     },
     "output_type": "display_data"
    }
   ],
   "source": [
    "import numpy as np\n",
    "from sklearn.linear_model import LinearRegression\n",
    "import matplotlib.pyplot as plt\n",
    "\n",
    "def fit_line(x, y):\n",
    "    model = LinearRegression(fit_intercept=True)\n",
    "    model.fit(x[:,np.newaxis],y)\n",
    "    return model.coef_[0], model.intercept_\n",
    "    \n",
    "def main():\n",
    "    #create data set\n",
    "    x = np.linspace(0,10,20)\n",
    "    y = x*2+1+ 1*np.random.randn(20)\n",
    "\n",
    "    #training\n",
    "    Slope, intercept = fit_line(x,y)\n",
    "    print(\"Slope: \",Slope)\n",
    "    print(\"Intercept: \",intercept)\n",
    "\n",
    "    #Fitting a reg line\n",
    "    xfit=np.linspace(0,10,100)\n",
    "    yfit=xfit*Slope + intercept # regression equation\n",
    "\n",
    "    plt.plot(x,y, \"o\")\n",
    "    plt.plot(xfit,yfit)\n",
    "    plt.show()\n",
    "\n",
    "if __name__ == \"__main__\":\n",
    "    main()\n"
   ]
  },
  {
   "cell_type": "markdown",
   "metadata": {},
   "source": [
    "#### <div class=\"alert alert-info\">Exercise 11 (mystery data)</div>\n",
    "Read the tab separated file `mystery_data.tsv`. Its first five columns define the features, and the last column is the response. Use scikit-learn's `LinearRegression` to fit this data. Implement function `mystery_data` that reads this file and learns and returns the regression coefficients for the five features. You don't have to fit the intercept. The `main` method should print output in the following form:\n",
    "\n",
    "```\n",
    "Coefficient of X1 is ...\n",
    "Coefficient of X2 is ...\n",
    "Coefficient of X3 is ...\n",
    "Coefficient of X4 is ...\n",
    "Coefficient of X5 is ...\n",
    "```\n",
    "\n",
    "Which features you think are needed to explain the response Y?\n",
    "\n",
    "<hr/>"
   ]
  },
  {
   "cell_type": "code",
   "execution_count": 2,
   "metadata": {},
   "outputs": [
    {
     "name": "stdout",
     "output_type": "stream",
     "text": [
      "[ 3.0000000e+00 -1.0000000e+00  7.0000000e+00 -1.8101968e-15\n",
      " -2.0000000e+01]\n"
     ]
    }
   ],
   "source": [
    "import pandas as pd\n",
    "from sklearn.linear_model import LinearRegression\n",
    "\n",
    "def mystery_data():\n",
    "    df = pd.read_csv('C:\\mystery_data.tsv', sep = \"\\t\") \n",
    "    model = LinearRegression(fit_intercept=False)\n",
    "    model.fit(df.iloc[:,0:5], df.iloc[:,5])\n",
    "    return model.coef_\n",
    "\n",
    "def main():\n",
    "    coefficients = mystery_data()\n",
    "    print(coefficients)\n",
    "\n",
    "    \n",
    "if __name__ == \"__main__\":\n",
    "    main()\n"
   ]
  },
  {
   "cell_type": "markdown",
   "metadata": {},
   "source": [
    "#### <div class=\"alert alert-info\">Exercise 12 (coefficient of determination)</div>\n",
    "\n",
    "This exercise can give two points at maximum!\n",
    "\n",
    "Using the same data as in the previous exercise, instead of printing the regression coefficients, print the *coefficient of determination*. The coefficient of determination, denoted by R2, tells how well the linear regression fits the data. The maximum value of the coefficient of determination is 1. That means the best possible fit.\n",
    "\n",
    "Part 1.\n",
    "\n",
    "Using all the features (X1 to X5), fit the data using a linear regression (include the intercept). Get the coefficient of determination using the `score` method of the `LinearRegression` class. Write a function `coefficient_of_determination` to do all this. It should return a list containing the R2-score as the only value.\n",
    "\n",
    "Part 2.\n",
    "\n",
    "Extend your function so that it also returns R2-scores related to linear regression with each single feature in turn. The `coefficient_of_determination` (https://en.wikipedia.org/wiki/Coefficient_of_determination) function should therefore return a list with six R2-scores (the first score is for five features, like in Part 1). To achieve this, your function should call both the `fit` method and the `score` method six times. \n",
    "\n",
    "The output from the main method should look like this:\n",
    "```\n",
    "R2-score with feature(s) X: ...\n",
    "R2-score with feature(s) X1: ...\n",
    "R2-score with feature(s) X2: ...\n",
    "R2-score with feature(s) X3: ...\n",
    "R2-score with feature(s) X4: ...\n",
    "R2-score with feature(s) X5: ...\n",
    "```\n",
    "How small can the R2-score be? Experiment both with fitting the intercept and without fitting the intercept.\n",
    "\n",
    "<hr/>"
   ]
  },
  {
   "cell_type": "code",
   "execution_count": 3,
   "metadata": {},
   "outputs": [
    {
     "name": "stdout",
     "output_type": "stream",
     "text": [
      "[1.0, 0.016918272602768458, 0.008964585308688822, 0.08785404530656271, 0.00030237088254569944, 0.8679744020096122]\n"
     ]
    }
   ],
   "source": [
    "import pandas as pd\n",
    "from sklearn import linear_model\n",
    "\n",
    "\n",
    "def coefficient_of_determination():\n",
    "    \n",
    "    df = pd.read_csv('C:\\mystery_data.tsv', sep = \"\\t\") \n",
    "    model = linear_model.LinearRegression(fit_intercept=True)\n",
    "    model.fit(df.iloc[:,0:5], df.iloc[:,5])\n",
    "\n",
    "    score = []\n",
    "    score.append(model.score(df.iloc[:,0:5], df.iloc[:,5], sample_weight=None))\n",
    "\n",
    "    for i in df.iloc[:,0:5]:\n",
    "        model.fit(df.iloc[:,0:5][i].values.reshape(-1,1), df.iloc[:,5] )\n",
    "        score.append(model.score(df.iloc[:,0:5][i].values.reshape(-1,1), df.iloc[:,5]))\n",
    "    \n",
    "    return score\n",
    "\n",
    "def main():\n",
    "    coefficient = coefficient_of_determination()\n",
    "    print(coefficient)\n",
    "\n",
    "\n",
    "if __name__ == \"__main__\":\n",
    "    main()"
   ]
  },
  {
   "cell_type": "markdown",
   "metadata": {},
   "source": [
    "#### <div class=\"alert alert-info\">Exercise 13 (cycling weather continues)</div>\n",
    "\n",
    "Write function `cycling_weather_continues` that tries to explain with linear regression the variable of a cycling measuring station's counts using the weather data from corresponding day. The function should take the name of a (cycling) measuring station as a parameter and return the regression coefficients and the score. In more detail:\n",
    "\n",
    "Read the weather data set from the `src` folder.  Read the cycling data set from folder `src` and restrict it to year 2017. Further, get the sums of cycling counts for each day. Merge the two datasets by the year, month, and day. \n",
    "Note that for the above you need only small additions to the solution of exercise `cycling_weather`.\n",
    "After this, use forward fill to fill the missing values.\n",
    "\n",
    "In the linear regression use as explanatory variables the following columns `'Precipitation amount (mm)'`, `'Snow depth (cm)'`, and `'Air temperature (degC)'`. Explain the variable (measuring station), whose name is given as a parameter to the function `cycling_weather_continues`. Fit also the intercept. The function should return a pair, whose first element is the regression coefficients and the second element is the score. Above, you may need to use the method `reset_index` (its counterpart is the method `set_index`).\n",
    "\n",
    "The output from the `main` function should be in the following form:\n",
    "\n",
    "```\n",
    "Measuring station: x\n",
    "Regression coefficient for variable 'precipitation': x.x\n",
    "Regression coefficient for variable 'snow depth': x.x\n",
    "Regression coefficient for variable 'temperature': x.x\n",
    "Score: x.xx\n",
    "```\n",
    "\n",
    "Use precision of one decimal for regression coefficients, and precision of two decimals for the score.\n",
    "In the `main` function test you solution using some measuring station, for example `Baana`.\n",
    "\n",
    "<hr/>"
   ]
  },
  {
   "cell_type": "code",
   "execution_count": 5,
   "metadata": {},
   "outputs": [
    {
     "name": "stdout",
     "output_type": "stream",
     "text": [
      "Measuring station: Merikannontie\n",
      "Regression coefficient for variable 'precipitation': -58.2\n",
      "Regression coefficient for variable 'snow depth': -15.8\n",
      "Regression coefficient for variable 'temperature': 145.6\n",
      "Score: 0.66\n"
     ]
    }
   ],
   "source": [
    "\n",
    "import pandas as pd\n",
    "from sklearn import linear_model\n",
    "\n",
    "def split_date(df):\n",
    "    d = df[\"Päivämäärä\"].str.split(expand=True)\n",
    "    d.columns = [\"Weekday\", \"Day\", \"Month\", \"Year\", \"Hour\"]\n",
    "\n",
    "    hourmin = d[\"Hour\"].str.split(\":\", expand=True)\n",
    "    d[\"Hour\"] = hourmin.iloc[:, 0]\n",
    "\n",
    "    days = dict(zip(\"ma ti ke to pe la su\".split(), \"Mon Tue Wed Thu Fri Sat Sun\".split()))\n",
    "    months = dict(zip(\"tammi helmi maalis huhti touko kesä heinä elo syys loka marras joulu\".split(), range(1,13)))\n",
    "\n",
    "    d[\"Weekday\"] = d[\"Weekday\"].map(days)\n",
    "    d[\"Month\"] = d[\"Month\"].map(months)\n",
    "    \n",
    "    d = d.astype({\"Weekday\": object, \"Day\": int, \"Month\": int, \"Year\": int, \"Hour\": int})\n",
    "    return d\n",
    "\n",
    "def cycling_weather_continues(station):\n",
    "\n",
    "    df = pd.read_csv('C:\\Helsingin_pyorailijamaarat.csv', sep = \";\")\n",
    "    df1=df.dropna(how=\"all\")\n",
    "    df1= df1[[\"Päivämäärä\", station]]\n",
    "    \n",
    "    split= split_date(df1)\n",
    "    df1 = df1.drop([\"Päivämäärä\"], axis=1)\n",
    "    df1 = pd.concat([split, df1], axis=1)\n",
    "\n",
    "    df1 = df1[df1[\"Year\"] == 2017]\n",
    "\n",
    "    df1 = df1.drop([\"Hour\"], axis=1)\n",
    "    df1 = df1.groupby([\"Day\", \"Month\", \"Year\"], as_index=False).sum().reset_index()\n",
    "\n",
    "    kw = pd.read_csv('C:\\kumpula-weather-2017.csv', sep =\",\" )\n",
    "    kw = kw.dropna(axis=0, how=\"all\").dropna(axis=1,how=\"all\")\n",
    "    \n",
    "    merged = pd.merge(kw, df1, right_on=[\"Year\", \"Month\", \"Day\"], left_on=[\"Year\", \"m\", \"d\"])\n",
    "    merged.drop([\"m\", \"d\", \"Time\", \"Time zone\"], axis = 1, inplace= True)\n",
    "    merged = merged.fillna(method=\"ffill\")\n",
    "\n",
    "    model = linear_model.LinearRegression(fit_intercept=True)\n",
    "    x = merged[['Precipitation amount (mm)', 'Snow depth (cm)', 'Air temperature (degC)']]\n",
    "    y = merged[[station]]\n",
    "    model.fit(x,y)\n",
    "\n",
    "    score = model.score(x,y)\n",
    "\n",
    "\n",
    "    return model.coef_[0], score\n",
    "    #return ((0.0, 0.0, 0.0), 0.0)\n",
    "    \n",
    "def main():\n",
    "    station = \"Merikannontie\"\n",
    "    score = cycling_weather_continues(station)\n",
    "    print(f\"Measuring station: {station}\")\n",
    "    print(f\"Regression coefficient for variable 'precipitation': {score[0][0]:.1f}\")\n",
    "    print(f\"Regression coefficient for variable 'snow depth': {score[0][1]:.1f}\")\n",
    "    print(f\"Regression coefficient for variable 'temperature': {score[0][2]:.1f}\")\n",
    "    print(f\"Score: {score[1]:.2f}\")\n",
    "\n",
    "if __name__ == \"__main__\":\n",
    "    main()\n"
   ]
  },
  {
   "cell_type": "markdown",
   "metadata": {},
   "source": [
    "## Additional information\n",
    "\n",
    "* The [scikit-learn](https://scikit-learn.org/stable/) library concentrates on machine learning. Check out library [statsmodels](http://www.statsmodels.org/stable/index.html) for a more statistical viewpoint to regression."
   ]
  },
  {
   "cell_type": "markdown",
   "metadata": {},
   "source": [
    "## Summary (week 5)\n",
    "\n",
    "* `pd.concat` and `pd.merge` can both combine two DataFrames, but the way the combining is done differs. The function `pd.concat` concatenates based on *indices* of DataFrames, whereas `pd.merge` combines based on the *content* of common variable(s).\n",
    "* The option `join=\"outer` to `pd.concat` can create missing values, but `join=inner` cannot. The former gives the union of indices and the latter gives the intersection of indices.\n",
    "* With `pd.concat` overlapping indices can:\n",
    "\n",
    "     * cause an error\n",
    "     * cause renumbering of indices\n",
    "     * create hierarchical indices\n",
    "* Merging can join elements\n",
    "\n",
    "     * one-to-one\n",
    "     * one-to-many\n",
    "     * many-to-many\n",
    "* In grouping a DataFrame can be thought to be split into smaller DataFrames. The major classes of operations on these groups are:\n",
    "\n",
    "     * aggregate\n",
    "     * filter\n",
    "     * transform (retains shape)\n",
    "     * apply\n",
    "* Series which are indexed by time are called time series\n",
    "* Linear regression can be used to find out linear relationships between variables\n",
    "     * can have more than one feature (explanatory variable)\n",
    "     * fitting polynomials is still linear regression"
   ]
  },
  {
   "cell_type": "markdown",
   "metadata": {},
   "source": [
    "<!--NAVIGATION-->\n",
    "\n",
    "\n",
    "<a href=\"https://colab.research.google.com/github/saskeli/x/blob/master/linear_regression.ipynb\"><img align=\"left\" src=\"https://colab.research.google.com/assets/colab-badge.svg\" alt=\"Open in Colab\" title=\"Open and Execute in Google Colaboratory\"></a>\n"
   ]
  }
 ],
 "metadata": {
  "kernelspec": {
   "display_name": "Python 3",
   "language": "python",
   "name": "python3"
  },
  "language_info": {
   "codemirror_mode": {
    "name": "ipython",
    "version": 3
   },
   "file_extension": ".py",
   "mimetype": "text/x-python",
   "name": "python",
   "nbconvert_exporter": "python",
   "pygments_lexer": "ipython3",
   "version": "3.7.6"
  },
  "varInspector": {
   "cols": {
    "lenName": 16,
    "lenType": 16,
    "lenVar": 40
   },
   "kernels_config": {
    "python": {
     "delete_cmd_postfix": "",
     "delete_cmd_prefix": "del ",
     "library": "var_list.py",
     "varRefreshCmd": "print(var_dic_list())"
    },
    "r": {
     "delete_cmd_postfix": ") ",
     "delete_cmd_prefix": "rm(",
     "library": "var_list.r",
     "varRefreshCmd": "cat(var_dic_list()) "
    }
   },
   "types_to_exclude": [
    "module",
    "function",
    "builtin_function_or_method",
    "instance",
    "_Feature"
   ],
   "window_display": false
  }
 },
 "nbformat": 4,
 "nbformat_minor": 2
}
